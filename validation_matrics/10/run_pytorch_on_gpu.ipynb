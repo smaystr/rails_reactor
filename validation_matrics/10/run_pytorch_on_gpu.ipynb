{
 "cells": [
  {
   "cell_type": "code",
   "execution_count": 0,
   "metadata": {
    "id": "6HVl6gKlzcHF",
    "colab_type": "code",
    "outputId": "13fc1a49-ba70-4c5e-b97d-2d583d271ee7",
    "colab": {
     "base_uri": "https://localhost:8080/",
     "height": 136.0
    }
   },
   "outputs": [
    {
     "name": "stdout",
     "output_type": "stream",
     "text": [
      "Requirement already satisfied: numpy in /usr/local/lib/python3.6/dist-packages (1.16.4)\n",
      "Requirement already satisfied: torch in /usr/local/lib/python3.6/dist-packages (1.1.0)\n",
      "Requirement already satisfied: torchvision in /usr/local/lib/python3.6/dist-packages (0.3.0)\n",
      "Requirement already satisfied: numpy in /usr/local/lib/python3.6/dist-packages (from torch) (1.16.4)\n",
      "Requirement already satisfied: pillow>=4.1.1 in /usr/local/lib/python3.6/dist-packages (from torchvision) (4.3.0)\n",
      "Requirement already satisfied: six in /usr/local/lib/python3.6/dist-packages (from torchvision) (1.12.0)\n",
      "Requirement already satisfied: olefile in /usr/local/lib/python3.6/dist-packages (from pillow>=4.1.1->torchvision) (0.46)\n"
     ]
    }
   ],
   "source": [
    "!pip3 install numpy\n",
    "!pip3 install torch torchvision"
   ]
  },
  {
   "cell_type": "code",
   "execution_count": 0,
   "metadata": {
    "id": "vrzh3ZKD0GOs",
    "colab_type": "code",
    "colab": {}
   },
   "outputs": [],
   "source": [
    "import torch"
   ]
  },
  {
   "cell_type": "code",
   "execution_count": 2,
   "metadata": {
    "id": "X1vxePQg0qbs",
    "colab_type": "code",
    "outputId": "911932e9-40b6-41cd-b8fb-39f54ce84a93",
    "colab": {
     "base_uri": "https://localhost:8080/",
     "height": 34.0
    }
   },
   "outputs": [
    {
     "data": {
      "text/plain": [
       "True"
      ]
     },
     "execution_count": 2,
     "metadata": {
      "tags": []
     },
     "output_type": "execute_result"
    }
   ],
   "source": [
    "torch.cuda.is_available()"
   ]
  },
  {
   "cell_type": "markdown",
   "metadata": {
    "id": "owYiu9Yi_UIT",
    "colab_type": "text"
   },
   "source": [
    "### move models to models dir to preserve initial file structure that was missed while uploading file to google collab files\n",
    "\n"
   ]
  },
  {
   "cell_type": "code",
   "execution_count": 0,
   "metadata": {
    "id": "onaS1mxB3NA-",
    "colab_type": "code",
    "colab": {}
   },
   "outputs": [],
   "source": [
    "!mkdir models\n",
    "!mv general_model.py models/general_model.py\n",
    "!mv linear_regression.py models/linear_regression.py\n",
    "!mv logistic_regression.py models/logistic_regression.py\n",
    "!mv config.yml models/config.yml\n",
    "!mv model_utils.py models/model_utils.py\n",
    "!mv linear_regression_module.py models/linear_regression_module.py\n",
    "!mv logistic_regression_module.py models/logistic_regression_module.py"
   ]
  },
  {
   "cell_type": "markdown",
   "metadata": {
    "id": "tgBkHrPj_jwb",
    "colab_type": "text"
   },
   "source": [
    "### run script and check results"
   ]
  },
  {
   "cell_type": "code",
   "execution_count": 8,
   "metadata": {
    "id": "k93GlbeK-pSB",
    "colab_type": "code",
    "outputId": "c0aa8644-e34a-482d-c82f-cd61cae5ccae",
    "colab": {
     "base_uri": "https://localhost:8080/",
     "height": 102.0
    }
   },
   "outputs": [
    {
     "name": "stdout",
     "output_type": "stream",
     "text": [
      "100% 242/242 [00:03<00:00, 79.24it/s]\n",
      "f1_score: 0.7027027027027027\n",
      "precision_score: 0.5462184873949579\n",
      "recall_score: 0.9848484848484849\n",
      "training time is: 3.533010959625244"
     ]
    }
   ],
   "source": [
    "!python3 task4.py --dataset_path dataset.csv --target target --task classification --split_type loocv\n",
    "!cat output/output.info"
   ]
  },
  {
   "cell_type": "code",
   "execution_count": 0,
   "metadata": {
    "id": "u5wlw8AFbYnk",
    "colab_type": "code",
    "outputId": "4347352b-eddb-46da-ef27-08aa1f57496d",
    "colab": {
     "base_uri": "https://localhost:8080/",
     "height": 44.0
    }
   },
   "outputs": [
    {
     "name": "stdout",
     "output_type": "stream",
     "text": [
      "\r  0% 0/242 [00:00<?, ?it/s]"
     ]
    }
   ],
   "source": [
    "!python3 task4.py --dataset_path dataset.csv --target target --task classification --split_type loocv --use_gpu=True\n",
    "!cat output/output.info"
   ]
  }
 ],
 "metadata": {
  "colab": {
   "name": "run_pytorch_on_gpu.ipynb",
   "version": "0.3.2",
   "provenance": [],
   "collapsed_sections": [],
   "toc_visible": true
  },
  "kernelspec": {
   "name": "python3",
   "display_name": "Python 3"
  },
  "accelerator": "GPU"
 },
 "nbformat": 4,
 "nbformat_minor": 0
}
