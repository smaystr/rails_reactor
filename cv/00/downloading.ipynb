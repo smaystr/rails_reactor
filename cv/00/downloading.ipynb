{
 "cells": [
  {
   "cell_type": "code",
   "execution_count": null,
   "metadata": {},
   "outputs": [],
   "source": [
    "import pandas as pd\n",
    "import warnings\n",
    "import torch\n",
    "import torchvision.models as models\n",
    "import requests\n",
    "import numpy as np\n",
    "import time\n",
    "\n",
    "from PIL import Image\n",
    "from io import BytesIO\n",
    "warnings.filterwarnings(\"ignore\")\n",
    "    \n",
    "\n",
    "mobilenet = models.mobilenet_v2(pretrained=True)\n",
    "mobilenet.cuda()\n",
    "mobilenet.eval()\n",
    "\n",
    "from torchvision import transforms\n",
    "tr = transforms.Compose([            \n",
    " transforms.Resize(224),                   \n",
    " transforms.ToTensor(),                     \n",
    " transforms.Normalize(                      \n",
    " mean=[0.485, 0.456, 0.406],                \n",
    " std=[0.229, 0.224, 0.225]                  \n",
    " )])\n",
    "\n",
    "a = make_embedding(images[images['item_id'] == 15969262].link.values)\n",
    "\n",
    "def upload_transform(url):\n",
    "\n",
    "    try:\n",
    "        return torch.unsqueeze(tr(Image.open(BytesIO(requests.get(url).content))), 0).to('cuda')\n",
    "    except Exception:\n",
    "        return 0\n",
    "    \n",
    "def make_embedding(urls):\n",
    "    \n",
    "    embedding = 0\n",
    "    k = 0\n",
    "    control = 0\n",
    "    for url in urls:\n",
    "       \n",
    "        try: \n",
    "            embedding += mobilenet(upload_transform(url))\n",
    "            control += 1\n",
    "        except Exception as e:\n",
    "            print(e)\n",
    "            k += 1\n",
    "        \n",
    "        if control >= 20:\n",
    "            break\n",
    "    try:   \n",
    "        embedding /= control\n",
    "    except Exception as e:\n",
    "        print('FATAL ERROR')\n",
    "        print('-------------------')\n",
    "        print(e)\n",
    "        print('-------------------')\n",
    "        return a   # the value that i will fiind and delete\n",
    "    return embedding.cpu().detach().numpy()[0]"
   ]
  },
  {
   "cell_type": "code",
   "execution_count": null,
   "metadata": {},
   "outputs": [],
   "source": [
    "with open('items.csv') as f:\n",
    "    item_ids = f.read()\n",
    "\n",
    "item_ids = list(map(int, item_ids.split('\\n')[1:-1]))\n",
    "\n",
    "with open('imagenet_classes.txt') as f:\n",
    "    labels = [line.strip() for line in f.readlines()]\n",
    "\n",
    "df = pd.DataFrame(columns=labels)\n",
    "df.index.name = 'item_id'\n",
    "images = pd.read_csv('images.csv')\n",
    "\n"
   ]
  },
  {
   "cell_type": "code",
   "execution_count": null,
   "metadata": {
    "scrolled": true
   },
   "outputs": [],
   "source": [
    "n = 0\n",
    "l = len(item_ids)\n",
    "\n",
    "for item_id in item_ids[1282:]:\n",
    "    n += 1\n",
    "    print(f'{n}/{l} --- {item_id}' )\n",
    "    links = images[images['item_id'] == item_id].link.values\n",
    "    \n",
    "    temp = make_embedding(links).cpu().detach().numpy()\n",
    "    df.loc[item_id] = temp\n",
    "    if n % 100 == 0:\n",
    "        df.to_csv('embedding.csv')\n",
    "        print('saved')\n",
    "\n",
    "df.to_csv('embedding.csv')"
   ]
  },
  {
   "cell_type": "code",
   "execution_count": null,
   "metadata": {},
   "outputs": [],
   "source": [
    "ker = df[(df['tench, Tinca tinca'] < a[0] + 0.0001) & (df['tench, Tinca tinca'] > a[0] - 0.0001)]['tench, Tinca tinca'].values[0]\n",
    "\n",
    "df[df['tench, Tinca tinca'] == ker].index"
   ]
  },
  {
   "cell_type": "code",
   "execution_count": null,
   "metadata": {},
   "outputs": [],
   "source": [
    "# delete \"a\" variables\n",
    "\n",
    "df.drop([13672463, 13772806, 14084427, 14149728,  8783647,\n",
    "            13507156, 13417356, 13641081, 13934101, 14158016, 13993003,\n",
    "            13639584, 13924240, 13654052, 13517063, 13678700, 14146912,\n",
    "            13987670, 13718072, 14084957, 14132470, 14106946, 13984281,\n",
    "            14064382, 12994025, 13537658, 13934602, 12623113,  8614625,\n",
    "            14108705, 14139940, 14108774, 14108926,  7914087, 12341531,\n",
    "            14107316, 14137682], inplace=True)"
   ]
  },
  {
   "cell_type": "code",
   "execution_count": null,
   "metadata": {},
   "outputs": [],
   "source": [
    "df.to_csv('embedding.csv')"
   ]
  }
 ],
 "metadata": {
  "celltoolbar": "Raw Cell Format",
  "kernelspec": {
   "display_name": "Python 3",
   "language": "python",
   "name": "python3"
  },
  "language_info": {
   "codemirror_mode": {
    "name": "ipython",
    "version": 3
   },
   "file_extension": ".py",
   "mimetype": "text/x-python",
   "name": "python",
   "nbconvert_exporter": "python",
   "pygments_lexer": "ipython3",
   "version": "3.7.4"
  }
 },
 "nbformat": 4,
 "nbformat_minor": 2
}
